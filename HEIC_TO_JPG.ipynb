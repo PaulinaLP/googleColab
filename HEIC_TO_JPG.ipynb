{
  "cells": [
    {
      "cell_type": "markdown",
      "metadata": {
        "id": "view-in-github",
        "colab_type": "text"
      },
      "source": [
        "<a href=\"https://colab.research.google.com/github/PaulinaLP/googleColab/blob/main/HEIC_TO_JPG.ipynb\" target=\"_parent\"><img src=\"https://colab.research.google.com/assets/colab-badge.svg\" alt=\"Open In Colab\"/></a>"
      ]
    },
    {
      "cell_type": "code",
      "execution_count": null,
      "metadata": {
        "colab": {
          "base_uri": "https://localhost:8080/"
        },
        "id": "zOVfBB_T5FPL",
        "outputId": "f9250b1a-58f6-4dc7-de0e-a769e7fb4c58"
      },
      "outputs": [
        {
          "name": "stdout",
          "output_type": "stream",
          "text": [
            "Collecting pyheif\n",
            "  Downloading pyheif-0.7.1-cp310-cp310-manylinux_2_17_x86_64.manylinux2014_x86_64.whl (9.8 MB)\n",
            "\u001b[2K     \u001b[90m━━━━━━━━━━━━━━━━━━━━━━━━━━━━━━━━━━━━━━━━\u001b[0m \u001b[32m9.8/9.8 MB\u001b[0m \u001b[31m17.3 MB/s\u001b[0m eta \u001b[36m0:00:00\u001b[0m\n",
            "\u001b[?25hRequirement already satisfied: cffi>=1.0.0 in /usr/local/lib/python3.10/dist-packages (from pyheif) (1.16.0)\n",
            "Requirement already satisfied: pycparser in /usr/local/lib/python3.10/dist-packages (from cffi>=1.0.0->pyheif) (2.21)\n",
            "Installing collected packages: pyheif\n",
            "Successfully installed pyheif-0.7.1\n"
          ]
        }
      ],
      "source": [
        "pip install pyheif"
      ]
    },
    {
      "cell_type": "code",
      "execution_count": null,
      "metadata": {
        "id": "nBgjlpZX4xFD"
      },
      "outputs": [],
      "source": [
        "\n",
        "import pyheif\n",
        "from PIL import Image\n",
        "import os\n",
        "\n",
        "def convert_heic_to_jpg(heic_file, jpg_file):\n",
        "    # Open the HEIC image using pyheif\n",
        "    heic = pyheif.read(heic_file)\n",
        "    # Convert the HEIC image to RGB format\n",
        "    image = Image.frombytes(\n",
        "        heic.mode,\n",
        "        heic.size,\n",
        "        heic.data,\n",
        "        \"raw\",\n",
        "        heic.mode,\n",
        "        heic.stride,\n",
        "    )\n",
        "    # Save as JPG\n",
        "    image.save(jpg_file, \"JPEG\")\n",
        "\n",
        "    print(f\"Converted {heic_file} to {jpg_file}\")\n",
        "\n",
        "def convert_and_remove_heic_files(folder_path):\n",
        "    # Iterate over all files in the folder\n",
        "    for file_name in os.listdir(folder_path):\n",
        "        file_path = os.path.join(folder_path, file_name)\n",
        "\n",
        "        # Check if the file is a HEIC file\n",
        "        if ( file_name.lower().endswith(\".heic\") | file_name.lower().endswith(\".HEIC\")):\n",
        "            # Convert HEIC to JPG\n",
        "            jpg_file = os.path.splitext(file_path)[0] + \".jpg\"\n",
        "            convert_heic_to_jpg(file_path, jpg_file)\n",
        "\n",
        "            # Remove the HEIC file\n",
        "            os.remove(file_path)\n",
        "            print(f\"Removed {file_path}\")\n",
        "\n",
        "# Example usage\n",
        "folder_path = '/content'\n",
        "convert_and_remove_heic_files(folder_path)\n"
      ]
    }
  ],
  "metadata": {
    "colab": {
      "provenance": [],
      "authorship_tag": "ABX9TyOUhNKpiOQLVTkXIgob2JIu",
      "include_colab_link": true
    },
    "kernelspec": {
      "display_name": "Python 3",
      "name": "python3"
    },
    "language_info": {
      "name": "python"
    }
  },
  "nbformat": 4,
  "nbformat_minor": 0
}